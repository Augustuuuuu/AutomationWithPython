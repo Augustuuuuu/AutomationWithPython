{
 "cells": [
  {
   "cell_type": "code",
   "execution_count": 3,
   "metadata": {},
   "outputs": [],
   "source": [
    "from imap_tools import MailBox, AND\n",
    "from password import user, password\n",
    "myEmail = MailBox('imap.gmail.com').login(user,password)\n"
   ]
  },
  {
   "cell_type": "code",
   "execution_count": 2,
   "metadata": {},
   "outputs": [],
   "source": [
    "# Pegar email que foram enviados para um remetente específico\n",
    "lista_emails = myEmail.fetch(AND(from_=\"augustosaboiaestudos@gmail.com\"))\n",
    "i = 0\n",
    "#print(len(list(lista_emails)))\n",
    "with open(\"emails.txt\", \"w\") as txt:\n",
    "    for email in lista_emails:\n",
    "        txt.write(f'\\n{email.subject}\\n {email.text} \\n')"
   ]
  },
  {
   "cell_type": "markdown",
   "metadata": {},
   "source": [
    "Algoritmo que marca todos os emaisl como lidos!"
   ]
  },
  {
   "cell_type": "code",
   "execution_count": 19,
   "metadata": {},
   "outputs": [],
   "source": [
    "from imap_tools import MailBox, AND, MailMessageFlags\n",
    "from password import user, password\n",
    "with MailBox('imap.gmail.com').login(user[1], password[1]) as meu_email:\n",
    "    flags = (MailMessageFlags.SEEN ,'Marcar como lido') # \n",
    "    meu_email.flag(meu_email.uids(AND(seen=False)), flags, True)"
   ]
  },
  {
   "cell_type": "code",
   "execution_count": 21,
   "metadata": {},
   "outputs": [
    {
     "name": "stdout",
     "output_type": "stream",
     "text": [
      "Todos os emails marcados como lido!\n"
     ]
    }
   ],
   "source": [
    "from imap_tools import MailBox, AND, MailMessageFlags\n",
    "from password import user, password\n",
    "\n",
    "def marcar_como_lido():\n",
    "    with MailBox('imap.gmail.com').login(user[1], password[1]) as meu_email:\n",
    "        flags = (MailMessageFlags.SEEN ,'Marcar como lido') # \n",
    "        meu_email.flag(meu_email.uids(AND(seen=False)), flags, True)\n",
    "    return \"Todos os emails marcados como lido!\"\n",
    "marcar_como_lido()\n",
    "\n"
   ]
  },
  {
   "cell_type": "code",
   "execution_count": 46,
   "metadata": {},
   "outputs": [
    {
     "name": "stdout",
     "output_type": "stream",
     "text": [
      "Emails não lidos salvos em unread_emails.txt.\n"
     ]
    }
   ],
   "source": [
    "from imap_tools import MailBox, AND\n",
    "import os\n",
    "from password import user, password  # Certifique-se de que esse arquivo existe e contém as variáveis\n",
    "\n",
    "def save_unread_emails_to_txt(email_user, email_password, output_file):\n",
    "    # Verifica se o arquivo de saída já existe\n",
    "    if os.path.exists(output_file):\n",
    "        os.remove(output_file)\n",
    "\n",
    "    # Conecta ao servidor de email\n",
    "    with MailBox('imap.gmail.com').login(email_user, email_password) as mailbox:\n",
    "        # Busca emails não lidos\n",
    "        unread_emails = mailbox.fetch(AND(seen=False))\n",
    "\n",
    "        # Salva os emails em um arquivo TXT\n",
    "        with open(output_file, 'a', encoding=\"utf-8\") as f:\n",
    "            for msg in unread_emails:\n",
    "                f.write(f'Enviado de: {msg.from_}\\n')\n",
    "                f.write(f'Assunto do email: {msg.subject}\\n')\n",
    "                f.write(f'Data: {msg.date}\\n')\n",
    "                f.write('---\\n')  # Separador entre emails\n",
    "\n",
    "    print(f'Emails não lidos salvos em {output_file}.')\n",
    "\n",
    "# Exemplo de uso\n",
    "if __name__ == '__main__':\n",
    "    user_email = user[0]  # Altere para seu email\n",
    "    user_password = password[0]  # Altere para sua senha\n",
    "    output_file_name = 'unread_emails.txt'  # Nome do arquivo de saída\n",
    "\n",
    "    save_unread_emails_to_txt(user_email, user_password, output_file_name)\n"
   ]
  }
 ],
 "metadata": {
  "kernelspec": {
   "display_name": "Python 3",
   "language": "python",
   "name": "python3"
  },
  "language_info": {
   "codemirror_mode": {
    "name": "ipython",
    "version": 3
   },
   "file_extension": ".py",
   "mimetype": "text/x-python",
   "name": "python",
   "nbconvert_exporter": "python",
   "pygments_lexer": "ipython3",
   "version": "3.12.7"
  }
 },
 "nbformat": 4,
 "nbformat_minor": 2
}
